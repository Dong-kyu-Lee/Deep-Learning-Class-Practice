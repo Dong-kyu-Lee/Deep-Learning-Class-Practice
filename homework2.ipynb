{
 "cells": [
  {
   "metadata": {},
   "cell_type": "markdown",
   "source": "# Homework_2",
   "id": "eed5ff4c7192c174"
  },
  {
   "metadata": {
    "ExecuteTime": {
     "end_time": "2025-10-16T11:09:52.700847Z",
     "start_time": "2025-10-16T11:09:48.352133Z"
    }
   },
   "cell_type": "code",
   "source": [
    "import torch\n",
    "from torch import nn, optim\n",
    "from torch.utils.data import random_split, DataLoader\n",
    "from datetime import datetime\n",
    "import wandb\n",
    "import argparse\n",
    "\n",
    "from pathlib import Path\n",
    "BASE_PATH = str(Path.cwd().parent) # BASE_PATH: /Users/stvbo/git/link_dl\n",
    "print(\"BASE_PATH:\", BASE_PATH)\n",
    "\n",
    "import sys\n",
    "sys.path.append(BASE_PATH)\n",
    "\n",
    "from _03_homeworks.homework_2.titanic_dataset \\\n",
    "    import get_preprocessed_dataset"
   ],
   "id": "7f71ac9a30d5ce5a",
   "outputs": [
    {
     "name": "stderr",
     "output_type": "stream",
     "text": [
      "C:\\Users\\stvbo\\anaconda3\\envs\\link_dl\\Lib\\site-packages\\pydantic\\_internal\\_generate_schema.py:2249: UnsupportedFieldAttributeWarning: The 'repr' attribute with value False was provided to the `Field()` function, which has no effect in the context it was used. 'repr' is field-specific metadata, and can only be attached to a model field using `Annotated` metadata or by assignment. This may have happened because an `Annotated` type alias using the `type` statement was used, or if the `Field()` function was attached to a single member of a union type.\n",
      "  warnings.warn(\n",
      "C:\\Users\\stvbo\\anaconda3\\envs\\link_dl\\Lib\\site-packages\\pydantic\\_internal\\_generate_schema.py:2249: UnsupportedFieldAttributeWarning: The 'frozen' attribute with value True was provided to the `Field()` function, which has no effect in the context it was used. 'frozen' is field-specific metadata, and can only be attached to a model field using `Annotated` metadata or by assignment. This may have happened because an `Annotated` type alias using the `type` statement was used, or if the `Field()` function was attached to a single member of a union type.\n",
      "  warnings.warn(\n"
     ]
    },
    {
     "name": "stdout",
     "output_type": "stream",
     "text": [
      "BASE_PATH: C:\\Users\\stvbo\\git\\link_dl\n"
     ]
    }
   ],
   "execution_count": 2
  },
  {
   "metadata": {},
   "cell_type": "markdown",
   "source": [
    "# 요구사항 1\n",
    "- Titanic 데이터 로드"
   ],
   "id": "5ba8f91c9bc2c0e4"
  },
  {
   "metadata": {
    "collapsed": true,
    "ExecuteTime": {
     "end_time": "2025-10-16T11:09:57.160168Z",
     "start_time": "2025-10-16T11:09:57.155384Z"
    }
   },
   "cell_type": "code",
   "source": [
    "def get_data():\n",
    "  train_dataset, validation_dataset, _ = get_preprocessed_dataset()\n",
    "  print(len(train_dataset), len(validation_dataset))\n",
    "\n",
    "  train_data_loader = DataLoader(dataset=train_dataset, batch_size=wandb.config.batch_size, shuffle=True)\n",
    "  validation_data_loader = DataLoader(dataset=validation_dataset, batch_size=len(validation_dataset))\n",
    "\n",
    "  return train_data_loader, validation_data_loader"
   ],
   "id": "fbece31f3d3d4a2d",
   "outputs": [],
   "execution_count": 3
  },
  {
   "metadata": {
    "ExecuteTime": {
     "end_time": "2025-10-16T11:10:00.171691Z",
     "start_time": "2025-10-16T11:10:00.166639Z"
    }
   },
   "cell_type": "code",
   "source": [
    "class MyModel(nn.Module):\n",
    "  def __init__(self, n_input, n_output):\n",
    "    super().__init__()\n",
    "\n",
    "    self.model = nn.Sequential(\n",
    "      nn.Linear(n_input, wandb.config.n_hidden_unit_list[0]),\n",
    "      nn.ReLU(), # ReLU & Batch size (16) 일 때 가장 결과가 좋음.\n",
    "      nn.Linear(wandb.config.n_hidden_unit_list[0], wandb.config.n_hidden_unit_list[1]),\n",
    "      nn.ReLU(),\n",
    "      nn.Linear(wandb.config.n_hidden_unit_list[1], n_output),\n",
    "    )\n",
    "\n",
    "  def forward(self, x):\n",
    "    x = self.model(x)\n",
    "    return x"
   ],
   "id": "95a7972a436eae3f",
   "outputs": [],
   "execution_count": 4
  },
  {
   "metadata": {},
   "cell_type": "markdown",
   "source": [
    "- `MyModel(n_input=10, n_output=1)`\n",
    "- titanic 데이터셋에 맞게 feature 수 변경"
   ],
   "id": "738ceb3403f25772"
  },
  {
   "metadata": {
    "ExecuteTime": {
     "end_time": "2025-10-16T11:10:03.327098Z",
     "start_time": "2025-10-16T11:10:03.322792Z"
    }
   },
   "cell_type": "code",
   "source": [
    "def get_model_and_optimizer():\n",
    "  my_model = MyModel(n_input=10, n_output=1)\n",
    "  optimizer = optim.SGD(my_model.parameters(), lr=wandb.config.learning_rate)\n",
    "\n",
    "  return my_model, optimizer"
   ],
   "id": "4a23233da502bf9c",
   "outputs": [],
   "execution_count": 5
  },
  {
   "metadata": {
    "ExecuteTime": {
     "end_time": "2025-10-15T15:26:13.000625Z",
     "start_time": "2025-10-15T15:26:12.994030Z"
    }
   },
   "cell_type": "code",
   "source": [
    "def training_loop(model, optimizer, train_data_loader, validation_data_loader):\n",
    "  n_epochs = wandb.config.epochs\n",
    "  loss_fn = nn.MSELoss()  # Use a built-in loss function\n",
    "  next_print_epoch = 100\n",
    "\n",
    "  for epoch in range(1, n_epochs + 1):\n",
    "    loss_train = 0.0\n",
    "    num_trains = 0\n",
    "    for train_batch in train_data_loader:\n",
    "      input, target = train_batch['input'], train_batch['target']\n",
    "      output_train = model(input)\n",
    "      target = target.unsqueeze(1).float()\n",
    "      loss = loss_fn(output_train, target)\n",
    "      loss_train += loss.item()\n",
    "      num_trains += 1\n",
    "\n",
    "      optimizer.zero_grad()\n",
    "      loss.backward()\n",
    "      optimizer.step()\n",
    "\n",
    "    loss_validation = 0.0\n",
    "    num_validations = 0\n",
    "    with torch.no_grad():\n",
    "      for validation_batch in validation_data_loader:\n",
    "        input, target = validation_batch['input'], validation_batch['target']\n",
    "        output_validation = model(input)\n",
    "        target = target.unsqueeze(1).float()\n",
    "        loss = loss_fn(output_validation, target)\n",
    "        loss_validation += loss.item()\n",
    "        num_validations += 1\n",
    "\n",
    "    wandb.log({\n",
    "      \"Epoch\": epoch,\n",
    "      \"Training loss\": loss_train / num_trains,\n",
    "      \"Validation loss\": loss_validation / num_validations\n",
    "    })\n",
    "\n",
    "    if epoch >= next_print_epoch:\n",
    "      print(\n",
    "        f\"Epoch {epoch}, \"\n",
    "        f\"Training loss {loss_train / num_trains:.4f}, \"\n",
    "        f\"Validation loss {loss_validation / num_validations:.4f}\"\n",
    "      )\n",
    "      next_print_epoch += 100"
   ],
   "id": "54e32605c0e57f50",
   "outputs": [],
   "execution_count": 15
  },
  {
   "metadata": {
    "ExecuteTime": {
     "end_time": "2025-10-15T15:26:34.440673Z",
     "start_time": "2025-10-15T15:26:14.824168Z"
    }
   },
   "cell_type": "code",
   "source": [
    "class Args:\n",
    "    wandb = True  # wandb 사용 여부\n",
    "    batch_size = 16\n",
    "    epochs = 1000\n",
    "\n",
    "args=Args()\n",
    "\n",
    "current_time_str = datetime.now().astimezone().strftime('%Y-%m-%d_%H-%M-%S')\n",
    "\n",
    "config = {\n",
    "'epochs': args.epochs,\n",
    "'batch_size': args.batch_size,\n",
    "'learning_rate': 1e-3,\n",
    "'n_hidden_unit_list': [20, 20],\n",
    "}\n",
    "\n",
    "wandb.init(\n",
    "mode=\"online\" if args.wandb else \"disabled\",\n",
    "project=\"my_model_training\",\n",
    "notes=\"My first wandb experiment\",\n",
    "tags=[\"my_model\", \"california_housing\"],\n",
    "name=current_time_str,\n",
    "config=config\n",
    ")\n",
    "print(args)\n",
    "print(wandb.config)\n",
    "\n",
    "train_data_loader, validation_data_loader = get_data()\n",
    "\n",
    "linear_model, optimizer = get_model_and_optimizer()\n",
    "\n",
    "print(\"#\" * 50, 1)\n",
    "\n",
    "training_loop(\n",
    "model=linear_model,\n",
    "optimizer=optimizer,\n",
    "train_data_loader=train_data_loader,\n",
    "validation_data_loader=validation_data_loader\n",
    ")\n",
    "wandb.finish()\n",
    "\n",
    "# https://docs.wandb.ai/guides/track/config"
   ],
   "id": "a9de5def76a57087",
   "outputs": [
    {
     "data": {
      "text/plain": [
       "<IPython.core.display.HTML object>"
      ],
      "text/html": []
     },
     "metadata": {},
     "output_type": "display_data",
     "jetTransient": {
      "display_id": "2638cb78a00a981c92993cfca0fce027"
     }
    },
    {
     "data": {
      "text/plain": [
       "<IPython.core.display.HTML object>"
      ],
      "text/html": [
       "Tracking run with wandb version 0.22.2"
      ]
     },
     "metadata": {},
     "output_type": "display_data",
     "jetTransient": {
      "display_id": null
     }
    },
    {
     "data": {
      "text/plain": [
       "<IPython.core.display.HTML object>"
      ],
      "text/html": [
       "Run data is saved locally in <code>C:\\Users\\stvbo\\git\\link_dl\\_04_your_code\\wandb\\run-20251016_002614-dm3zizhe</code>"
      ]
     },
     "metadata": {},
     "output_type": "display_data",
     "jetTransient": {
      "display_id": null
     }
    },
    {
     "data": {
      "text/plain": [
       "<IPython.core.display.HTML object>"
      ],
      "text/html": [
       "Syncing run <strong><a href='https://wandb.ai/stvboy00-korea-university-of-technology-and-education/my_model_training/runs/dm3zizhe' target=\"_blank\">2025-10-16_00-26-14</a></strong> to <a href='https://wandb.ai/stvboy00-korea-university-of-technology-and-education/my_model_training' target=\"_blank\">Weights & Biases</a> (<a href='https://wandb.me/developer-guide' target=\"_blank\">docs</a>)<br>"
      ]
     },
     "metadata": {},
     "output_type": "display_data",
     "jetTransient": {
      "display_id": null
     }
    },
    {
     "data": {
      "text/plain": [
       "<IPython.core.display.HTML object>"
      ],
      "text/html": [
       " View project at <a href='https://wandb.ai/stvboy00-korea-university-of-technology-and-education/my_model_training' target=\"_blank\">https://wandb.ai/stvboy00-korea-university-of-technology-and-education/my_model_training</a>"
      ]
     },
     "metadata": {},
     "output_type": "display_data",
     "jetTransient": {
      "display_id": null
     }
    },
    {
     "data": {
      "text/plain": [
       "<IPython.core.display.HTML object>"
      ],
      "text/html": [
       " View run at <a href='https://wandb.ai/stvboy00-korea-university-of-technology-and-education/my_model_training/runs/dm3zizhe' target=\"_blank\">https://wandb.ai/stvboy00-korea-university-of-technology-and-education/my_model_training/runs/dm3zizhe</a>"
      ]
     },
     "metadata": {},
     "output_type": "display_data",
     "jetTransient": {
      "display_id": null
     }
    },
    {
     "name": "stdout",
     "output_type": "stream",
     "text": [
      "<__main__.Args object at 0x000001845CCCE300>\n",
      "{'epochs': 1000, 'batch_size': 16, 'learning_rate': 0.001, 'n_hidden_unit_list': [20, 20]}\n"
     ]
    },
    {
     "name": "stderr",
     "output_type": "stream",
     "text": [
      "C:\\Users\\stvbo\\git\\link_dl\\_03_homeworks\\homework_2\\titanic_dataset.py:128: FutureWarning: A value is trying to be set on a copy of a DataFrame or Series through chained assignment using an inplace method.\n",
      "The behavior will change in pandas 3.0. This inplace method will never work because the intermediate object on which we are setting values always behaves as a copy.\n",
      "\n",
      "For example, when doing 'df[col].method(value, inplace=True)', try using 'df.method({col: value}, inplace=True)' or df[col] = df[col].method(value) instead, to perform the operation inplace on the original object.\n",
      "\n",
      "\n",
      "  all_df[\"alone\"].fillna(0, inplace=True)\n",
      "C:\\Users\\stvbo\\git\\link_dl\\_03_homeworks\\homework_2\\titanic_dataset.py:147: FutureWarning: A value is trying to be set on a copy of a DataFrame or Series through chained assignment using an inplace method.\n",
      "The behavior will change in pandas 3.0. This inplace method will never work because the intermediate object on which we are setting values always behaves as a copy.\n",
      "\n",
      "For example, when doing 'df[col].method(value, inplace=True)', try using 'df.method({col: value}, inplace=True)' or df[col] = df[col].method(value) instead, to perform the operation inplace on the original object.\n",
      "\n",
      "\n",
      "  all_df[\"Embarked\"].fillna(\"missing\", inplace=True)\n"
     ]
    },
    {
     "name": "stdout",
     "output_type": "stream",
     "text": [
      "Index(['Survived', 'Pclass', 'Sex', 'Age', 'SibSp', 'Parch', 'Fare',\n",
      "       'Embarked', 'title', 'family_num', 'alone'],\n",
      "      dtype='object')\n",
      "   Survived  Pclass  Sex   Age  SibSp  Parch     Fare  Embarked  title  \\\n",
      "0       0.0       3    1  22.0      1      0   7.2500         2      2   \n",
      "1       1.0       1    0  38.0      1      0  71.2833         0      3   \n",
      "2       1.0       3    0  26.0      0      0   7.9250         2      1   \n",
      "3       1.0       1    0  35.0      1      0  53.1000         2      3   \n",
      "4       0.0       3    1  35.0      0      0   8.0500         2      2   \n",
      "5       0.0       3    1  29.0      0      0   8.4583         1      2   \n",
      "6       0.0       1    1  54.0      0      0  51.8625         2      2   \n",
      "7       0.0       3    1   2.0      3      1  21.0750         2      0   \n",
      "8       1.0       3    0  27.0      0      2  11.1333         2      3   \n",
      "9       1.0       2    0  14.0      1      0  30.0708         0      3   \n",
      "\n",
      "   family_num  alone  \n",
      "0           1    0.0  \n",
      "1           1    0.0  \n",
      "2           0    1.0  \n",
      "3           1    0.0  \n",
      "4           0    1.0  \n",
      "5           0    1.0  \n",
      "6           0    1.0  \n",
      "7           4    0.0  \n",
      "8           2    0.0  \n",
      "9           1    0.0  \n",
      "Data Size: 891, Input Shape: torch.Size([891, 10]), Target Shape: torch.Size([891])\n",
      "713 178\n",
      "################################################## 1\n",
      "Epoch 100, Training loss 0.1970, Validation loss 0.2068\n",
      "Epoch 200, Training loss 0.1812, Validation loss 0.1802\n",
      "Epoch 300, Training loss 0.1655, Validation loss 0.2154\n",
      "Epoch 400, Training loss 0.1538, Validation loss 0.1456\n",
      "Epoch 500, Training loss 0.1478, Validation loss 0.1381\n",
      "Epoch 600, Training loss 0.1422, Validation loss 0.1378\n",
      "Epoch 700, Training loss 0.1471, Validation loss 0.1407\n",
      "Epoch 800, Training loss 0.1460, Validation loss 0.1375\n",
      "Epoch 900, Training loss 0.1391, Validation loss 0.1319\n",
      "Epoch 1000, Training loss 0.1418, Validation loss 0.1303\n"
     ]
    },
    {
     "data": {
      "text/plain": [
       "<IPython.core.display.HTML object>"
      ],
      "text/html": []
     },
     "metadata": {},
     "output_type": "display_data",
     "jetTransient": {
      "display_id": "85482963f0e3c3f2577eb49f3f095324"
     }
    },
    {
     "data": {
      "text/plain": [
       "<IPython.core.display.HTML object>"
      ],
      "text/html": [
       "<br>    <style><br>        .wandb-row {<br>            display: flex;<br>            flex-direction: row;<br>            flex-wrap: wrap;<br>            justify-content: flex-start;<br>            width: 100%;<br>        }<br>        .wandb-col {<br>            display: flex;<br>            flex-direction: column;<br>            flex-basis: 100%;<br>            flex: 1;<br>            padding: 10px;<br>        }<br>    </style><br><div class=\"wandb-row\"><div class=\"wandb-col\"><h3>Run history:</h3><br/><table class=\"wandb\"><tr><td>Epoch</td><td>▁▁▁▁▂▂▂▂▂▂▂▃▃▃▃▃▄▄▄▄▅▅▅▆▆▆▆▆▆▆▇▇▇▇▇▇▇▇▇█</td></tr><tr><td>Training loss</td><td>██▇▇▇▆▆▆▆▄▄▄▄▄▃▃▃▂▃▃▃▂▂▂▂▂▂▂▂▂▁▂▂▁▁▁▁▁▁▁</td></tr><tr><td>Validation loss</td><td>▇▇▇█▆▅▅▅▅▄▃▆▃▃▂▃▃▂▂▂▄▂▃▂▂▁▁▂▁▁▂▇▂▁▁▂▂▂▁▁</td></tr></table><br/></div><div class=\"wandb-col\"><h3>Run summary:</h3><br/><table class=\"wandb\"><tr><td>Epoch</td><td>1000</td></tr><tr><td>Training loss</td><td>0.14177</td></tr><tr><td>Validation loss</td><td>0.13029</td></tr></table><br/></div></div>"
      ]
     },
     "metadata": {},
     "output_type": "display_data",
     "jetTransient": {
      "display_id": null
     }
    },
    {
     "data": {
      "text/plain": [
       "<IPython.core.display.HTML object>"
      ],
      "text/html": [
       " View run <strong style=\"color:#cdcd00\">2025-10-16_00-26-14</strong> at: <a href='https://wandb.ai/stvboy00-korea-university-of-technology-and-education/my_model_training/runs/dm3zizhe' target=\"_blank\">https://wandb.ai/stvboy00-korea-university-of-technology-and-education/my_model_training/runs/dm3zizhe</a><br> View project at: <a href='https://wandb.ai/stvboy00-korea-university-of-technology-and-education/my_model_training' target=\"_blank\">https://wandb.ai/stvboy00-korea-university-of-technology-and-education/my_model_training</a><br>Synced 5 W&B file(s), 0 media file(s), 0 artifact file(s) and 0 other file(s)"
      ]
     },
     "metadata": {},
     "output_type": "display_data",
     "jetTransient": {
      "display_id": null
     }
    },
    {
     "data": {
      "text/plain": [
       "<IPython.core.display.HTML object>"
      ],
      "text/html": [
       "Find logs at: <code>.\\wandb\\run-20251016_002614-dm3zizhe\\logs</code>"
      ]
     },
     "metadata": {},
     "output_type": "display_data",
     "jetTransient": {
      "display_id": null
     }
    }
   ],
   "execution_count": 16
  },
  {
   "metadata": {},
   "cell_type": "markdown",
   "source": [
    "# 요구사항 2\n",
    "\n",
    "- 더 나은 성능을 산출하는 Activation function 조사 (Batch Size 16 기준)\n",
    "    - 결과 : ReLU를 사용했을 때, 가장 좋은 성능을 산출. (Training loss:0.14047410405344432\n",
    "Validation loss:0.1235535964369774)\n",
    "    - ![Sigmoid](https://github.com/Dong-kyu-Lee/Deep-Learning-Class-Practice/raw/master/img/Sigmoid_16.png \"Sigmoid_16\") (Sigmoid)\n",
    "    - ![ReLU](https://github.com/Dong-kyu-Lee/Deep-Learning-Class-Practice/raw/master/img/ReLU_16.png \"ReLU_16\") (ReLU)\n",
    "    - ![ELU](https://github.com/Dong-kyu-Lee/Deep-Learning-Class-Practice/raw/master/img/ELU_16.png \"ReLU_16\") (ELU)\n",
    "    - ![Lealy ReLU](https://github.com/Dong-kyu-Lee/Deep-Learning-Class-Practice/raw/master/img/Lealy_ReLU_16.png \"Lealy ReLU\") (Lealy ReLU)\n",
    "- 더 나은 성능을 산출하는 Batch Size 조사 (Activation function : ReLU 기준)\n",
    "    - 결과 : Batch Size 16일 때, 가장 좋은 성능을 산출. (Training loss:0.13184196170833376\n",
    "Validation loss:0.13638935983181)\n",
    "    - ![Size 16](https://github.com/Dong-kyu-Lee/Deep-Learning-Class-Practice/raw/master/img/16_ReLU.png \"Size 16\") (Size 16)\n",
    "    - ![Size 32](https://github.com/Dong-kyu-Lee/Deep-Learning-Class-Practice/raw/master/img/32_ReLU.png \"Size 32\") (Size 32)\n",
    "    - ![Size 64](https://github.com/Dong-kyu-Lee/Deep-Learning-Class-Practice/raw/master/img/64_ReLU.png \"Size 64\") (Size 64)\n",
    "    - ![Size 128](https://github.com/Dong-kyu-Lee/Deep-Learning-Class-Practice/raw/master/img/128_ReLU.png \"Size 128\") (Size 128)"
   ],
   "id": "d5c7cb1196e34c9a"
  },
  {
   "metadata": {},
   "cell_type": "markdown",
   "source": [
    "# 요구사항 3\n",
    "- Activation Function : ReLU\n",
    "- Batch Size : 16"
   ],
   "id": "bf4ff7bc22383a5b"
  },
  {
   "metadata": {
    "ExecuteTime": {
     "end_time": "2025-10-16T11:10:19.733225Z",
     "start_time": "2025-10-16T11:10:19.720158Z"
    }
   },
   "cell_type": "code",
   "source": "from _01_code._99_common_utils.early_stopping import EarlyStopping",
   "id": "1445b5e29089ec1a",
   "outputs": [],
   "execution_count": 6
  },
  {
   "metadata": {},
   "cell_type": "markdown",
   "source": [
    "- training_loop : EarlyStopping 객체를 사용해, 90 epoch 기간을 부여하여 오버피팅 되기 전의 모델 추출\n",
    "- 문제 : 모델의 Loss값의 변동 추이가 너무 불규칙하여 오버피팅되는 시점을 잡기 어려움. (아직 해결 못함)"
   ],
   "id": "78ab1d4a305032be"
  },
  {
   "metadata": {
    "ExecuteTime": {
     "end_time": "2025-10-16T11:52:25.449905Z",
     "start_time": "2025-10-16T11:52:25.442473Z"
    }
   },
   "cell_type": "code",
   "source": [
    "import os\n",
    "\n",
    "def training_loop(model, optimizer, train_data_loader, validation_data_loader, test_data_loader):\n",
    "  checkpoint_file_path = os.path.join('checkpoint')\n",
    "  early_stopping = EarlyStopping(90, 0.00001, 'my_model', checkpoint_file_path)\n",
    "  n_epochs = wandb.config.epochs\n",
    "  loss_fn = nn.MSELoss()  # Use a built-in loss function\n",
    "  next_print_epoch = 100\n",
    "\n",
    "  for epoch in range(1, n_epochs + 1):\n",
    "    loss_train = 0.0\n",
    "    num_trains = 0\n",
    "    for train_batch in train_data_loader:\n",
    "      input, target = train_batch['input'], train_batch['target']\n",
    "      output_train = model(input)\n",
    "      target = target.unsqueeze(1).float()\n",
    "      loss = loss_fn(output_train, target)\n",
    "      loss_train += loss.item()\n",
    "      num_trains += 1\n",
    "\n",
    "      optimizer.zero_grad()\n",
    "      loss.backward()\n",
    "      optimizer.step()\n",
    "\n",
    "    loss_validation = 0.0\n",
    "    num_validations = 0\n",
    "    with torch.no_grad():\n",
    "      for validation_batch in validation_data_loader:\n",
    "        input, target = validation_batch['input'], validation_batch['target']\n",
    "        output_validation = model(input)\n",
    "        target = target.unsqueeze(1).float()\n",
    "        loss = loss_fn(output_validation, target)\n",
    "        loss_validation += loss.item()\n",
    "        num_validations += 1\n",
    "        message, early_stop = early_stopping.check_and_save(loss_validation / num_validations, model)\n",
    "\n",
    "    wandb.log({\n",
    "      \"Epoch\": epoch,\n",
    "      \"Training loss\": loss_train / num_trains,\n",
    "      \"Validation loss\": loss_validation / num_validations\n",
    "    })\n",
    "\n",
    "    if epoch >= next_print_epoch:\n",
    "      print(\n",
    "        f\"Epoch {epoch}, \"\n",
    "        f\"Training loss {loss_train / num_trains:.4f}, \"\n",
    "        f\"Validation loss {loss_validation / num_validations:.4f}\"\n",
    "      )\n",
    "      next_print_epoch += 100\n",
    "\n",
    "    if early_stop:\n",
    "          break\n"
   ],
   "id": "b7f1c1e512be2cc",
   "outputs": [],
   "execution_count": 33
  },
  {
   "metadata": {},
   "cell_type": "markdown",
   "source": "- test dataset을 받아오도록 get_data() 함수 재정의",
   "id": "1c9b6991ba4f6eb5"
  },
  {
   "metadata": {
    "ExecuteTime": {
     "end_time": "2025-10-16T11:45:40.239396Z",
     "start_time": "2025-10-16T11:45:40.233270Z"
    }
   },
   "cell_type": "code",
   "source": [
    "def get_data():\n",
    "  train_dataset, validation_dataset, test_dataset = get_preprocessed_dataset()\n",
    "  print(len(train_dataset), len(validation_dataset))\n",
    "\n",
    "  train_data_loader = DataLoader(dataset=train_dataset, batch_size=wandb.config.batch_size, shuffle=True)\n",
    "  validation_data_loader = DataLoader(dataset=validation_dataset, batch_size=len(validation_dataset))\n",
    "  test_data_loader = DataLoader(dataset=test_dataset, batch_size=len(test_dataset))\n",
    "\n",
    "  return train_data_loader, validation_data_loader, test_data_loader"
   ],
   "id": "875ad2cb549b6b73",
   "outputs": [],
   "execution_count": 20
  },
  {
   "metadata": {},
   "cell_type": "markdown",
   "source": "- 테스트를 수행하고 Kaggle 제출 형식의 CSV 파일로 저장하는 함수.",
   "id": "340de41446ea1896"
  },
  {
   "metadata": {
    "ExecuteTime": {
     "end_time": "2025-10-16T12:34:20.004365Z",
     "start_time": "2025-10-16T12:34:19.996687Z"
    }
   },
   "cell_type": "code",
   "source": [
    "import pandas as pd\n",
    "import torch\n",
    "\n",
    "def generate_submission_file(model, test_data_loader, checkpoint_file_path):\n",
    "    # 1. 원본 테스트 데이터의 PassengerId를 가져오기 위해 'test.csv' 파일을 로드.\n",
    "    try:\n",
    "        base_path = os.path.dirname(os.getcwd())\n",
    "        test_csv_path = os.path.join(base_path, '_03_homeworks', 'homework_2', 'test.csv')\n",
    "        print(f\"Attempting to load test.csv from: {test_csv_path}\")\n",
    "        test_df_original = pd.read_csv(test_csv_path)\n",
    "    except Exception as e:\n",
    "        print(f\"Error loading 'test.csv': {e}\")\n",
    "        print(\"Assuming 'test.csv' is in the current working directory.\")\n",
    "        test_df_original = pd.read_csv(\"test.csv\")\n",
    "\n",
    "    # 2. 모델 상태 불러오기\n",
    "    model_path = os.path.join(checkpoint_file_path, \"my_model_checkpoint_latest.pt\")\n",
    "    print(f\"Loading model from: {model_path}\")\n",
    "    model.load_state_dict(torch.load(model_path))\n",
    "    model.eval()\n",
    "\n",
    "    all_predictions = []\n",
    "    # 4. 테스트 데이터로더를 순회하며 예측을 수행합니다.\n",
    "    with torch.no_grad():  # 그래디언트 계산을 비활성화하여 메모리 사용량과 계산 속도를 최적화합니다.\n",
    "        for batch in test_data_loader:\n",
    "            inputs = batch['input']\n",
    "            outputs = model(inputs)\n",
    "\n",
    "            # 모델 출력이 0~1 사이의 값이므로, 0.5를 기준으로 생존(1)과 사망(0)을 결정합니다.\n",
    "            predicted = (outputs > 0.5).long()\n",
    "\n",
    "            # 예측 결과를 리스트에 추가합니다.\n",
    "            all_predictions.extend(predicted.squeeze().cpu().tolist())\n",
    "\n",
    "    # 5. 제출 형식에 맞게 DataFrame을 생성합니다.\n",
    "    submission_df = pd.DataFrame({\n",
    "        \"PassengerId\": test_df_original[\"PassengerId\"],\n",
    "        \"Survived\": all_predictions\n",
    "    })\n",
    "\n",
    "    # 6. DataFrame을 CSV 파일로 저장합니다. index=False로 불필요한 인덱스 열을 제거합니다.\n",
    "    submission_path = \"submission.csv\"\n",
    "    submission_df.to_csv(submission_path, index=False)\n",
    "\n",
    "    print(\"-\" * 50)\n",
    "    print(f\"Submission file has been successfully created at: {submission_path}\")\n",
    "    print(\"Submission file head:\")\n",
    "    print(submission_df.head())"
   ],
   "id": "4d168b64f4f9c908",
   "outputs": [],
   "execution_count": 35
  },
  {
   "metadata": {
    "ExecuteTime": {
     "end_time": "2025-10-16T12:44:19.488285Z",
     "start_time": "2025-10-16T12:43:58.925765Z"
    }
   },
   "cell_type": "code",
   "source": [
    "class Args:\n",
    "    wandb = True  # wandb 사용 여부\n",
    "    batch_size = 16\n",
    "    epochs = 1000\n",
    "\n",
    "args=Args()\n",
    "\n",
    "current_time_str = datetime.now().astimezone().strftime('%Y-%m-%d_%H-%M-%S')\n",
    "\n",
    "config = {\n",
    "'epochs': args.epochs,\n",
    "'batch_size': args.batch_size,\n",
    "'learning_rate': 1e-3,\n",
    "'n_hidden_unit_list': [20, 20],\n",
    "}\n",
    "\n",
    "wandb.init(\n",
    "mode=\"online\" if args.wandb else \"disabled\",\n",
    "project=\"my_model_training\",\n",
    "notes=\"My first wandb experiment\",\n",
    "tags=[\"my_model\", \"california_housing\"],\n",
    "name=current_time_str,\n",
    "config=config\n",
    ")\n",
    "print(args)\n",
    "print(wandb.config)\n",
    "\n",
    "train_data_loader, validation_data_loader, test_data_loader = get_data()\n",
    "\n",
    "linear_model, optimizer = get_model_and_optimizer()\n",
    "\n",
    "print(\"#\" * 50, 1)\n",
    "\n",
    "training_loop(\n",
    "model=linear_model,\n",
    "optimizer=optimizer,\n",
    "train_data_loader=train_data_loader,\n",
    "validation_data_loader=validation_data_loader,\n",
    "test_data_loader=test_data_loader\n",
    ")\n",
    "\n",
    "checkpoint_folder = 'checkpoint'\n",
    "generate_submission_file(linear_model, test_data_loader, checkpoint_folder)\n",
    "\n",
    "wandb.finish()\n"
   ],
   "id": "d31954d682e77dc8",
   "outputs": [
    {
     "data": {
      "text/plain": [
       "<IPython.core.display.HTML object>"
      ],
      "text/html": []
     },
     "metadata": {},
     "output_type": "display_data",
     "jetTransient": {
      "display_id": "cb4a105da7c224b8ebccb6cc7a5e81ae"
     }
    },
    {
     "data": {
      "text/plain": [
       "<IPython.core.display.HTML object>"
      ],
      "text/html": [
       "Tracking run with wandb version 0.22.2"
      ]
     },
     "metadata": {},
     "output_type": "display_data",
     "jetTransient": {
      "display_id": null
     }
    },
    {
     "data": {
      "text/plain": [
       "<IPython.core.display.HTML object>"
      ],
      "text/html": [
       "Run data is saved locally in <code>C:\\Users\\stvbo\\git\\link_dl\\_04_your_code\\wandb\\run-20251016_214358-ebxpmcuh</code>"
      ]
     },
     "metadata": {},
     "output_type": "display_data",
     "jetTransient": {
      "display_id": null
     }
    },
    {
     "data": {
      "text/plain": [
       "<IPython.core.display.HTML object>"
      ],
      "text/html": [
       "Syncing run <strong><a href='https://wandb.ai/stvboy00-korea-university-of-technology-and-education/my_model_training/runs/ebxpmcuh' target=\"_blank\">2025-10-16_21-43-58</a></strong> to <a href='https://wandb.ai/stvboy00-korea-university-of-technology-and-education/my_model_training' target=\"_blank\">Weights & Biases</a> (<a href='https://wandb.me/developer-guide' target=\"_blank\">docs</a>)<br>"
      ]
     },
     "metadata": {},
     "output_type": "display_data",
     "jetTransient": {
      "display_id": null
     }
    },
    {
     "data": {
      "text/plain": [
       "<IPython.core.display.HTML object>"
      ],
      "text/html": [
       " View project at <a href='https://wandb.ai/stvboy00-korea-university-of-technology-and-education/my_model_training' target=\"_blank\">https://wandb.ai/stvboy00-korea-university-of-technology-and-education/my_model_training</a>"
      ]
     },
     "metadata": {},
     "output_type": "display_data",
     "jetTransient": {
      "display_id": null
     }
    },
    {
     "data": {
      "text/plain": [
       "<IPython.core.display.HTML object>"
      ],
      "text/html": [
       " View run at <a href='https://wandb.ai/stvboy00-korea-university-of-technology-and-education/my_model_training/runs/ebxpmcuh' target=\"_blank\">https://wandb.ai/stvboy00-korea-university-of-technology-and-education/my_model_training/runs/ebxpmcuh</a>"
      ]
     },
     "metadata": {},
     "output_type": "display_data",
     "jetTransient": {
      "display_id": null
     }
    },
    {
     "name": "stdout",
     "output_type": "stream",
     "text": [
      "<__main__.Args object at 0x0000027D2AB7F950>\n",
      "{'epochs': 1000, 'batch_size': 16, 'learning_rate': 0.001, 'n_hidden_unit_list': [20, 20]}\n"
     ]
    },
    {
     "name": "stderr",
     "output_type": "stream",
     "text": [
      "C:\\Users\\stvbo\\git\\link_dl\\_03_homeworks\\homework_2\\titanic_dataset.py:128: FutureWarning: A value is trying to be set on a copy of a DataFrame or Series through chained assignment using an inplace method.\n",
      "The behavior will change in pandas 3.0. This inplace method will never work because the intermediate object on which we are setting values always behaves as a copy.\n",
      "\n",
      "For example, when doing 'df[col].method(value, inplace=True)', try using 'df.method({col: value}, inplace=True)' or df[col] = df[col].method(value) instead, to perform the operation inplace on the original object.\n",
      "\n",
      "\n",
      "  all_df[\"alone\"].fillna(0, inplace=True)\n",
      "C:\\Users\\stvbo\\git\\link_dl\\_03_homeworks\\homework_2\\titanic_dataset.py:147: FutureWarning: A value is trying to be set on a copy of a DataFrame or Series through chained assignment using an inplace method.\n",
      "The behavior will change in pandas 3.0. This inplace method will never work because the intermediate object on which we are setting values always behaves as a copy.\n",
      "\n",
      "For example, when doing 'df[col].method(value, inplace=True)', try using 'df.method({col: value}, inplace=True)' or df[col] = df[col].method(value) instead, to perform the operation inplace on the original object.\n",
      "\n",
      "\n",
      "  all_df[\"Embarked\"].fillna(\"missing\", inplace=True)\n"
     ]
    },
    {
     "name": "stdout",
     "output_type": "stream",
     "text": [
      "Index(['Survived', 'Pclass', 'Sex', 'Age', 'SibSp', 'Parch', 'Fare',\n",
      "       'Embarked', 'title', 'family_num', 'alone'],\n",
      "      dtype='object')\n",
      "   Survived  Pclass  Sex   Age  SibSp  Parch     Fare  Embarked  title  \\\n",
      "0       0.0       3    1  22.0      1      0   7.2500         2      2   \n",
      "1       1.0       1    0  38.0      1      0  71.2833         0      3   \n",
      "2       1.0       3    0  26.0      0      0   7.9250         2      1   \n",
      "3       1.0       1    0  35.0      1      0  53.1000         2      3   \n",
      "4       0.0       3    1  35.0      0      0   8.0500         2      2   \n",
      "5       0.0       3    1  29.0      0      0   8.4583         1      2   \n",
      "6       0.0       1    1  54.0      0      0  51.8625         2      2   \n",
      "7       0.0       3    1   2.0      3      1  21.0750         2      0   \n",
      "8       1.0       3    0  27.0      0      2  11.1333         2      3   \n",
      "9       1.0       2    0  14.0      1      0  30.0708         0      3   \n",
      "\n",
      "   family_num  alone  \n",
      "0           1    0.0  \n",
      "1           1    0.0  \n",
      "2           0    1.0  \n",
      "3           1    0.0  \n",
      "4           0    1.0  \n",
      "5           0    1.0  \n",
      "6           0    1.0  \n",
      "7           4    0.0  \n",
      "8           2    0.0  \n",
      "9           1    0.0  \n",
      "Data Size: 891, Input Shape: torch.Size([891, 10]), Target Shape: torch.Size([891])\n",
      "713 178\n",
      "################################################## 1\n",
      "Epoch 100, Training loss 0.1965, Validation loss 0.2033\n",
      "Epoch 200, Training loss 0.1856, Validation loss 0.2105\n",
      "Epoch 300, Training loss 0.1741, Validation loss 0.2188\n",
      "Epoch 400, Training loss 0.1548, Validation loss 0.1736\n",
      "Epoch 500, Training loss 0.1517, Validation loss 0.1571\n",
      "Epoch 600, Training loss 0.1495, Validation loss 0.1576\n",
      "Epoch 700, Training loss 0.1423, Validation loss 0.1413\n",
      "Epoch 800, Training loss 0.1413, Validation loss 0.1677\n",
      "Epoch 900, Training loss 0.1440, Validation loss 0.2394\n",
      "Epoch 1000, Training loss 0.1380, Validation loss 0.1383\n",
      "Attempting to load test.csv from: C:\\Users\\stvbo\\git\\link_dl\\_03_homeworks\\homework_2\\test.csv\n",
      "Loading model from: checkpoint\\my_model_checkpoint_latest.pt\n",
      "--------------------------------------------------\n",
      "Submission file has been successfully created at: submission.csv\n",
      "Submission file head:\n",
      "   PassengerId  Survived\n",
      "0          892         0\n",
      "1          893         1\n",
      "2          894         0\n",
      "3          895         0\n",
      "4          896         1\n"
     ]
    },
    {
     "data": {
      "text/plain": [
       "<IPython.core.display.HTML object>"
      ],
      "text/html": []
     },
     "metadata": {},
     "output_type": "display_data",
     "jetTransient": {
      "display_id": "434ca44e9a562ecc058221b706d709c5"
     }
    },
    {
     "data": {
      "text/plain": [
       "<IPython.core.display.HTML object>"
      ],
      "text/html": [
       "<br>    <style><br>        .wandb-row {<br>            display: flex;<br>            flex-direction: row;<br>            flex-wrap: wrap;<br>            justify-content: flex-start;<br>            width: 100%;<br>        }<br>        .wandb-col {<br>            display: flex;<br>            flex-direction: column;<br>            flex-basis: 100%;<br>            flex: 1;<br>            padding: 10px;<br>        }<br>    </style><br><div class=\"wandb-row\"><div class=\"wandb-col\"><h3>Run history:</h3><br/><table class=\"wandb\"><tr><td>Epoch</td><td>▁▁▂▂▂▂▂▃▃▃▃▃▃▃▃▄▄▄▅▅▅▅▅▅▅▆▆▆▆▆▆▆▇▇▇▇▇▇██</td></tr><tr><td>Training loss</td><td>█▆▆▅▅▅▅▅▅▅▄▄▄▃▃▂▃▂▂▂▂▂▂▂▂▁▂▁▁▂▁▂▁▁▂▁▁▁▂▁</td></tr><tr><td>Validation loss</td><td>▇▇▇▆▅▅▄▄▄▄▃▃▃▃▃▄▅▂▄▅█▃▂▂▂▃▁▁▃▁▂▂▃▁▂▂▃▁▂▂</td></tr></table><br/></div><div class=\"wandb-col\"><h3>Run summary:</h3><br/><table class=\"wandb\"><tr><td>Epoch</td><td>1000</td></tr><tr><td>Training loss</td><td>0.13797</td></tr><tr><td>Validation loss</td><td>0.1383</td></tr></table><br/></div></div>"
      ]
     },
     "metadata": {},
     "output_type": "display_data",
     "jetTransient": {
      "display_id": null
     }
    },
    {
     "data": {
      "text/plain": [
       "<IPython.core.display.HTML object>"
      ],
      "text/html": [
       " View run <strong style=\"color:#cdcd00\">2025-10-16_21-43-58</strong> at: <a href='https://wandb.ai/stvboy00-korea-university-of-technology-and-education/my_model_training/runs/ebxpmcuh' target=\"_blank\">https://wandb.ai/stvboy00-korea-university-of-technology-and-education/my_model_training/runs/ebxpmcuh</a><br> View project at: <a href='https://wandb.ai/stvboy00-korea-university-of-technology-and-education/my_model_training' target=\"_blank\">https://wandb.ai/stvboy00-korea-university-of-technology-and-education/my_model_training</a><br>Synced 5 W&B file(s), 0 media file(s), 0 artifact file(s) and 0 other file(s)"
      ]
     },
     "metadata": {},
     "output_type": "display_data",
     "jetTransient": {
      "display_id": null
     }
    },
    {
     "data": {
      "text/plain": [
       "<IPython.core.display.HTML object>"
      ],
      "text/html": [
       "Find logs at: <code>.\\wandb\\run-20251016_214358-ebxpmcuh\\logs</code>"
      ]
     },
     "metadata": {},
     "output_type": "display_data",
     "jetTransient": {
      "display_id": null
     }
    }
   ],
   "execution_count": 37
  },
  {
   "metadata": {},
   "cell_type": "markdown",
   "source": "# 요구사항 4",
   "id": "f9494dac14834b69"
  },
  {
   "metadata": {},
   "cell_type": "markdown",
   "source": [
    "![Kaggle Grade](https://github.com/Dong-kyu-Lee/Deep-Learning-Class-Practice/raw/master/img/Kaggle_grade.png \"Kaggle Grade\")\n",
    "\n",
    "등수 : 13179\n",
    "이름 : Dong Gyu Lee\n",
    "Score : 0.74401\n",
    "Entries : 1\n",
    "Last : 2m"
   ],
   "id": "fa7c6dc7c7dbd1e8"
  }
 ],
 "metadata": {
  "kernelspec": {
   "display_name": "Python 3",
   "language": "python",
   "name": "python3"
  },
  "language_info": {
   "codemirror_mode": {
    "name": "ipython",
    "version": 2
   },
   "file_extension": ".py",
   "mimetype": "text/x-python",
   "name": "python",
   "nbconvert_exporter": "python",
   "pygments_lexer": "ipython2",
   "version": "2.7.6"
  }
 },
 "nbformat": 4,
 "nbformat_minor": 5
}
